{
 "cells": [
  {
   "cell_type": "markdown",
   "id": "361542ff",
   "metadata": {},
   "source": [
    "# Python Scripts - Text extraction (webscraping) and matching contents of Java file(s)"
   ]
  },
  {
   "cell_type": "markdown",
   "id": "8a2f0458",
   "metadata": {},
   "source": [
    "## Created for API Migration"
   ]
  },
  {
   "cell_type": "code",
   "execution_count": 1,
   "id": "ab88f421",
   "metadata": {},
   "outputs": [],
   "source": [
    "#imports\n",
    "import os\n",
    "import csv\n",
    "import requests\n",
    "from bs4 import BeautifulSoup\n",
    "import csv\n",
    "import json"
   ]
  },
  {
   "cell_type": "markdown",
   "id": "aaa1ab25",
   "metadata": {},
   "source": [
    "## >>>WebScrapper - will save a CSV and a JSON file --JSON not required--<<<"
   ]
  },
  {
   "cell_type": "code",
   "execution_count": 6,
   "id": "a251d7fc",
   "metadata": {},
   "outputs": [],
   "source": [
    "url = \"https://developer.android.com/sdk/api_diff/33/changes/alldiffs_index_changes\" #URL from android website - only changes\n",
    "\n",
    "#Request and creation of Beautiful Soup with the response\n",
    "response = requests.get(url)\n",
    "soup = BeautifulSoup(response.content, \"html.parser\")\n",
    "\n",
    "#getting links from the webpage\n",
    "links = []\n",
    "for a in soup.find_all(\"a\"):\n",
    "    if a.has_attr(\"href\") and a[\"href\"].startswith(\"/sdk/api_diff/33/changes/\"):\n",
    "        links.append(a[\"href\"])\n",
    "\n",
    "#creation and writing the file with DictWriter\n",
    "csv_file = open(\"classes.csv\", \"w\", newline=\"\")\n",
    "csv_writer = csv.DictWriter(csv_file, fieldnames=[\"Package Class\"])\n",
    "csv_writer.writeheader()\n",
    "\n",
    "#technically not writing any links but the classes themselves\n",
    "for link in links:\n",
    "    css_class = link.split('/')[-1]\n",
    "    csv_writer.writerow({\"Package Class\": css_class})\n",
    "\n",
    "\n",
    "#JSON not required\n",
    "json_file = open(\"classes.json\", \"w\")\n",
    "json_data = {\"links\": links}\n",
    "json.dump(json_data, json_file)"
   ]
  },
  {
   "cell_type": "markdown",
   "id": "355d9124",
   "metadata": {},
   "source": [
    "## python script to compare the CSV against Java files in a given directory\n",
    "##### python script to use the obtained CSV file. "
   ]
  },
  {
   "cell_type": "markdown",
   "id": "c7b00cef",
   "metadata": {},
   "source": [
    "### 1. data collection"
   ]
  },
  {
   "cell_type": "markdown",
   "id": "fba6313a",
   "metadata": {},
   "source": [
    "#### primary folder"
   ]
  },
  {
   "cell_type": "code",
   "execution_count": 21,
   "id": "2e458972",
   "metadata": {},
   "outputs": [
    {
     "name": "stdout",
     "output_type": "stream",
     "text": [
      "Found android.app.Activity in GooglePlayChecker.java\n",
      "Found android.app.Activity in DataCollectionPlugin.java\n",
      "Found java.util.Arrays in DataCollectionPlugin.java\n",
      "Found android.os.Bundle in GooglePlayChecker.java\n",
      "Found android.content.Context in ExplicitIntent.java\n",
      "Found android.content.Context in ConfigManager.java\n",
      "Found android.content.Context in BootReceiver.java\n",
      "Found android.content.Context in DataCollectionPlugin.java\n",
      "Found android.app.Dialog in GooglePlayChecker.java\n",
      "Found android.content.Intent in ExplicitIntent.java\n",
      "Found android.content.Intent in BootReceiver.java\n",
      "Found android.content.Intent in GooglePlayChecker.java\n",
      "Found android.content.Intent in DataCollectionPlugin.java\n",
      "Found org.json.JSONObject in DataCollectionPlugin.java\n",
      "Found android.content.pm.PackageManager in DataCollectionPlugin.java\n"
     ]
    }
   ],
   "source": [
    "def match_csv_java(csv_file, directory): #method accepting CSV and a directory\n",
    "    java_files = os.listdir(directory)\n",
    "    with open(csv_file, \"r\") as f: # open CSV in read mode\n",
    "        reader = csv.reader(f)\n",
    "        for row in reader:\n",
    "            classes = row[1]         \n",
    "    #java_files = os.listdir(directory)\n",
    "            for java_file in java_files:\n",
    "                if not os.path.isdir(java_file) and java_file.endswith(\".java\"): #to avoid error when encountering a directory - if another directory exists\n",
    "                    with open(os.path.join(directory, java_file), \"r\", encoding=\"utf-8\") as f:\n",
    "                        text = f.read()\n",
    "                        if classes in text:\n",
    "                            print(f\"Found {classes} in {java_file}\") # printing this in such a way we know which package/ class is in which file   \n",
    "    \n",
    "#absolute PATH: format - csv, directory                            \n",
    "if __name__ == \"__main__\":\n",
    "    match_csv_java(\""tmp","tmp"\")"
   ]
  },
  {
   "cell_type": "markdown",
   "id": "1c671243",
   "metadata": {},
   "source": [
    "#### location"
   ]
  },
  {
   "cell_type": "code",
   "execution_count": 22,
   "id": "9a3bad65",
   "metadata": {},
   "outputs": [
    {
     "name": "stdout",
     "output_type": "stream",
     "text": [
      "Found java.util.Arrays in LocationChangeIntentService.java\n",
      "Found java.util.Arrays in TripDiaryStateMachineForegroundService.java\n",
      "Found java.util.Arrays in TripDiaryStateMachineReceiver.java\n",
      "Found java.util.Arrays in ActivityRecognitionChangeIntentService.java\n",
      "Found java.util.stream.Collectors in TripDiaryStateMachineForegroundService.java\n",
      "Found android.content.Context in TripDiaryStateMachineService.java\n",
      "Found android.content.Context in TripDiaryStateMachineServiceOngoing.java\n",
      "Found android.content.Context in ForegroundServiceComm.java\n",
      "Found android.content.Context in OPGeofenceExitActivityIntentService.java\n",
      "Found android.content.Context in OPGeofenceExitActivityActions.java\n",
      "Found android.content.Context in TripDiaryStateMachineForegroundService.java\n",
      "Found android.content.Context in OPGeofenceWalkExitWorker.java\n",
      "Found android.content.Context in TripDiaryStateMachineReceiver.java\n",
      "Found android.content.Intent in TripDiaryStateMachineService.java\n",
      "Found android.content.Intent in TripDiaryStateMachineServiceOngoing.java\n",
      "Found android.content.Intent in ForegroundServiceComm.java\n",
      "Found android.content.Intent in OPGeofenceExitActivityIntentService.java\n",
      "Found android.content.Intent in OPGeofenceExitActivityActions.java\n",
      "Found android.content.Intent in GeofenceExitIntentService.java\n",
      "Found android.content.Intent in LocationChangeIntentService.java\n",
      "Found android.content.Intent in TripDiaryStateMachineForegroundService.java\n",
      "Found android.content.Intent in OPGeofenceWalkExitWorker.java\n",
      "Found android.content.Intent in TripDiaryStateMachineReceiver.java\n",
      "Found android.content.Intent in ActivityRecognitionChangeIntentService.java\n",
      "Found org.json.JSONObject in TripDiaryStateMachineService.java\n",
      "Found org.json.JSONObject in OPGeofenceExitActivityIntentService.java\n",
      "Found org.json.JSONObject in OPGeofenceWalkExitWorker.java\n",
      "Found org.json.JSONObject in TripDiaryStateMachineReceiver.java\n",
      "Found android.location.Location in OPGeofenceExitActivityIntentService.java\n",
      "Found android.location.Location in LocationChangeIntentService.java\n",
      "Found android.location.Location in OPGeofenceWalkExitWorker.java\n",
      "Found android.app.NotificationManager in TripDiaryStateMachineForegroundService.java\n",
      "Found android.app.Service in TripDiaryStateMachineService.java\n",
      "Found android.app.Service in TripDiaryStateMachineServiceOngoing.java\n",
      "Found android.app.Service in TripDiaryStateMachineForegroundService.java\n",
      "Found java.util.concurrent.TimeUnit in OPGeofenceExitActivityIntentService.java\n",
      "Found java.util.concurrent.TimeUnit in OPGeofenceWalkExitWorker.java\n"
     ]
    }
   ],
   "source": [
    "def match_csv_java(csv_file, directory):\n",
    "    java_files = os.listdir(directory)\n",
    "    with open(csv_file, \"r\") as f:\n",
    "        reader = csv.reader(f)\n",
    "        for row in reader:\n",
    "            classes = row[1]         \n",
    "    #java_files = os.listdir(directory)\n",
    "            for java_file in java_files:\n",
    "                if not os.path.isdir(java_file) and java_file.endswith(\".java\"):\n",
    "                    with open(os.path.join(directory, java_file), \"r\", encoding=\"utf-8\") as f:\n",
    "                        text = f.read()\n",
    "                        if classes in text:\n",
    "                            print(f\"Found {classes} in {java_file}\")    \n",
    "    \n",
    "                            \n",
    "if __name__ == \"__main__\":\n",
    "    match_csv_java(\""tmp","tmp"\")"
   ]
  },
  {
   "cell_type": "markdown",
   "id": "6fad8583",
   "metadata": {},
   "source": [
    "#### location -> actions"
   ]
  },
  {
   "cell_type": "code",
   "execution_count": 23,
   "id": "8deb408e",
   "metadata": {},
   "outputs": [
    {
     "name": "stdout",
     "output_type": "stream",
     "text": [
      "Found java.util.Arrays in GeofenceLocationIntentService.java\n",
      "Found java.util.Arrays in GeofenceActions.java\n",
      "Found java.util.Collection in GeofenceLocationIntentService.java\n",
      "Found android.content.Context in GeofenceActions.java\n",
      "Found android.content.Context in LocationTrackingActions.java\n",
      "Found android.content.Context in ActivityRecognitionActions.java\n",
      "Found android.content.Intent in GeofenceLocationIntentService.java\n",
      "Found android.content.Intent in GeofenceActions.java\n",
      "Found android.content.Intent in LocationTrackingActions.java\n",
      "Found android.content.Intent in ActivityRecognitionActions.java\n",
      "Found android.content.IntentFilter in GeofenceActions.java\n",
      "Found org.json.JSONObject in GeofenceActions.java\n",
      "Found android.location.Location in GeofenceLocationIntentService.java\n",
      "Found android.location.Location in GeofenceActions.java\n",
      "Found java.util.concurrent.TimeUnit in GeofenceActions.java\n"
     ]
    }
   ],
   "source": [
    "def match_csv_java(csv_file, directory):\n",
    "    java_files = os.listdir(directory)\n",
    "    with open(csv_file, \"r\") as f:\n",
    "        reader = csv.reader(f)\n",
    "        for row in reader:\n",
    "            classes = row[1]         \n",
    "    #java_files = os.listdir(directory)\n",
    "            for java_file in java_files:\n",
    "                if not os.path.isdir(java_file) and java_file.endswith(\".java\"):\n",
    "                    with open(os.path.join(directory, java_file), \"r\", encoding=\"utf-8\") as f:\n",
    "                        text = f.read()\n",
    "                        if classes in text:\n",
    "                            print(f\"Found {classes} in {java_file}\")    \n",
    "    \n",
    "                            \n",
    "if __name__ == \"__main__\":\n",
    "    match_csv_java(\""tmp","tmp"\")"
   ]
  },
  {
   "cell_type": "markdown",
   "id": "99036ee8",
   "metadata": {},
   "source": [
    "#### sensors"
   ]
  },
  {
   "cell_type": "code",
   "execution_count": 24,
   "id": "d4646eed",
   "metadata": {},
   "outputs": [
    {
     "name": "stdout",
     "output_type": "stream",
     "text": [
      "Found android.content.Context in BatteryUtils.java\n",
      "Found android.content.Context in PollSensor.java\n",
      "Found android.content.Context in PollSensorManager.java\n",
      "Found android.content.Context in BatteryPollSensor.java\n",
      "Found android.content.Intent in BatteryUtils.java\n",
      "Found android.content.IntentFilter in BatteryUtils.java\n"
     ]
    }
   ],
   "source": [
    "def match_csv_java(csv_file, directory):\n",
    "    java_files = os.listdir(directory)\n",
    "    with open(csv_file, \"r\") as f:\n",
    "        reader = csv.reader(f)\n",
    "        for row in reader:\n",
    "            classes = row[1]         \n",
    "    #java_files = os.listdir(directory)\n",
    "            for java_file in java_files:\n",
    "                if not os.path.isdir(java_file) and java_file.endswith(\".java\"):\n",
    "                    with open(os.path.join(directory, java_file), \"r\", encoding=\"utf-8\") as f:\n",
    "                        text = f.read()\n",
    "                        if classes in text:\n",
    "                            print(f\"Found {classes} in {java_file}\")    \n",
    "    \n",
    "                            \n",
    "if __name__ == \"__main__\":\n",
    "    match_csv_java(\""tmp","tmp"\")"
   ]
  },
  {
   "cell_type": "markdown",
   "id": "de5fe5a3",
   "metadata": {},
   "source": [
    "#### verification"
   ]
  },
  {
   "cell_type": "code",
   "execution_count": 25,
   "id": "caa49791",
   "metadata": {},
   "outputs": [
    {
     "name": "stdout",
     "output_type": "stream",
     "text": [
      "Found android.app.Activity in SensorControlForegroundDelegate.java\n",
      "Found java.util.Arrays in SensorControlBackgroundChecker.java\n",
      "Found java.util.Arrays in SensorControlForegroundDelegate.java\n",
      "Found android.os.Build.VERSION in SensorControlChecks.java\n",
      "Found android.os.Build.VERSION_CODES in SensorControlChecks.java\n",
      "Found android.content.Context in SensorControlChecks.java\n",
      "Found android.content.Context in SensorControlBackgroundChecker.java\n",
      "Found android.content.Context in SensorControlForegroundDelegate.java\n",
      "Found android.content.Intent in SensorControlBackgroundChecker.java\n",
      "Found android.content.Intent in SensorControlForegroundDelegate.java\n",
      "Found org.json.JSONObject in SensorControlBackgroundChecker.java\n",
      "Found org.json.JSONObject in SensorControlForegroundDelegate.java\n",
      "Found android.location.Location in SensorControlChecks.java\n",
      "Found android.app.NotificationChannel in SensorControlChecks.java\n",
      "Found android.app.NotificationManager in SensorControlChecks.java\n",
      "Found android.content.pm.PackageManager in SensorControlBackgroundChecker.java\n",
      "Found android.content.pm.PackageManager in SensorControlForegroundDelegate.java\n",
      "Found android.os.PowerManager in SensorControlChecks.java\n",
      "Found android.provider.Settings in SensorControlForegroundDelegate.java\n",
      "Found java.util.concurrent.TimeUnit in SensorControlBackgroundChecker.java\n"
     ]
    }
   ],
   "source": [
    "def match_csv_java(csv_file, directory):\n",
    "    java_files = os.listdir(directory)\n",
    "    with open(csv_file, \"r\") as f:\n",
    "        reader = csv.reader(f)\n",
    "        for row in reader:\n",
    "            classes = row[1]         \n",
    "    #java_files = os.listdir(directory)\n",
    "            for java_file in java_files:\n",
    "                if not os.path.isdir(java_file) and java_file.endswith(\".java\"):\n",
    "                    with open(os.path.join(directory, java_file), \"r\", encoding=\"utf-8\") as f:\n",
    "                        text = f.read()\n",
    "                        if classes in text:\n",
    "                            print(f\"Found {classes} in {java_file}\")    \n",
    "    \n",
    "                            \n",
    "if __name__ == \"__main__\":\n",
    "    match_csv_java(\""tmp","tmp"\")"
   ]
  },
  {
   "cell_type": "markdown",
   "id": "e0b35ea6",
   "metadata": {},
   "source": [
    "#### wrapper"
   ]
  },
  {
   "cell_type": "code",
   "execution_count": 26,
   "id": "412308ac",
   "metadata": {},
   "outputs": [
    {
     "name": "stdout",
     "output_type": "stream",
     "text": [
      "Found android.os.BatteryManager in Battery.java\n",
      "Found android.os.Build.VERSION in StatsEvent.java\n",
      "Found android.content.Context in StatsEvent.java\n",
      "Found android.content.Intent in Battery.java\n",
      "Found org.json.JSONObject in SimpleLocation.java\n",
      "Found android.location.Location in SimpleLocation.java\n",
      "Found android.content.pm.PackageManager in StatsEvent.java\n"
     ]
    }
   ],
   "source": [
    "def match_csv_java(csv_file, directory):\n",
    "    java_files = os.listdir(directory)\n",
    "    with open(csv_file, \"r\") as f:\n",
    "        reader = csv.reader(f)\n",
    "        for row in reader:\n",
    "            classes = row[1]         \n",
    "    #java_files = os.listdir(directory)\n",
    "            for java_file in java_files:\n",
    "                if not os.path.isdir(java_file) and java_file.endswith(\".java\"):\n",
    "                    with open(os.path.join(directory, java_file), \"r\", encoding=\"utf-8\") as f:\n",
    "                        text = f.read()\n",
    "                        if classes in text:\n",
    "                            print(f\"Found {classes} in {java_file}\")    \n",
    "    \n",
    "                            \n",
    "if __name__ == \"__main__\":\n",
    "    match_csv_java(\""tmp","tmp"\")"
   ]
  },
  {
   "cell_type": "markdown",
   "id": "f8bc9c2b",
   "metadata": {},
   "source": [
    "### 2. OPcodeauth"
   ]
  },
  {
   "cell_type": "code",
   "execution_count": 27,
   "id": "253a2005",
   "metadata": {},
   "outputs": [
    {
     "name": "stdout",
     "output_type": "stream",
     "text": [
      "Found android.app.Activity in OPCodePlugin.java\n",
      "Found android.content.Context in AuthTokenCreationFactory.java\n",
      "Found android.content.Context in AuthTokenCreator.java\n",
      "Found android.content.Context in PromptedAuth.java\n",
      "Found android.content.Intent in AuthTokenCreator.java\n",
      "Found android.content.Intent in OPCodePlugin.java\n",
      "Found android.content.Intent in PromptedAuth.java\n",
      "Found org.json.JSONObject in PromptedAuth.java\n",
      "Found java.util.concurrent.TimeUnit in AuthPendingResult.java\n"
     ]
    }
   ],
   "source": [
    "def match_csv_java(csv_file, directory):\n",
    "    java_files = os.listdir(directory)\n",
    "    with open(csv_file, \"r\") as f:\n",
    "        reader = csv.reader(f)\n",
    "        for row in reader:\n",
    "            classes = row[1]         \n",
    "    #java_files = os.listdir(directory)\n",
    "            for java_file in java_files:\n",
    "                if not os.path.isdir(java_file) and java_file.endswith(\".java\"):\n",
    "                    with open(os.path.join(directory, java_file), \"r\", encoding=\"utf-8\") as f:\n",
    "                        text = f.read()\n",
    "                        if classes in text:\n",
    "                            print(f\"Found {classes} in {java_file}\")    \n",
    "    \n",
    "                            \n",
    "if __name__ == \"__main__\":\n",
    "    match_csv_java(\""tmp","tmp"\")"
   ]
  },
  {
   "cell_type": "markdown",
   "id": "36b339a4",
   "metadata": {},
   "source": [
    "### 3. server communication"
   ]
  },
  {
   "cell_type": "code",
   "execution_count": 28,
   "id": "b1054a92",
   "metadata": {},
   "outputs": [
    {
     "name": "stdout",
     "output_type": "stream",
     "text": [
      "Found android.content.Context in CommunicationHelper.java\n",
      "Found android.content.Context in CommunicationHelperPlugin.java\n",
      "Found java.io.InputStream in CommunicationHelper.java\n",
      "Found org.json.JSONObject in CommunicationHelper.java\n",
      "Found org.json.JSONObject in CommunicationHelperPlugin.java\n"
     ]
    }
   ],
   "source": [
    "def match_csv_java(csv_file, directory):\n",
    "    java_files = os.listdir(directory)\n",
    "    with open(csv_file, \"r\") as f:\n",
    "        reader = csv.reader(f)\n",
    "        for row in reader:\n",
    "            classes = row[1]         \n",
    "    #java_files = os.listdir(directory)\n",
    "            for java_file in java_files:\n",
    "                if not os.path.isdir(java_file) and java_file.endswith(\".java\"):\n",
    "                    with open(os.path.join(directory, java_file), \"r\", encoding=\"utf-8\") as f:\n",
    "                        text = f.read()\n",
    "                        if classes in text:\n",
    "                            print(f\"Found {classes} in {java_file}\")    \n",
    "    \n",
    "                            \n",
    "if __name__ == \"__main__\":\n",
    "    match_csv_java(\""tmp","tmp"\")"
   ]
  },
  {
   "cell_type": "markdown",
   "id": "cf19bce4",
   "metadata": {},
   "source": [
    "### 4. Serversync"
   ]
  },
  {
   "cell_type": "code",
   "execution_count": 29,
   "id": "401d1e5f",
   "metadata": {},
   "outputs": [
    {
     "name": "stdout",
     "output_type": "stream",
     "text": [
      "Found android.app.Activity in ServerSyncPlugin.java\n",
      "Found android.os.Bundle in ServerSyncPlugin.java\n",
      "Found android.os.Bundle in Authenticator.java\n",
      "Found android.os.Bundle in ServerSyncUtil.java\n",
      "Found android.os.Bundle in ServerSyncAdapter.java\n",
      "Found android.content.Context in CommunicationHelper.java\n",
      "Found android.content.Context in ConfigManager.java\n",
      "Found android.content.Context in ServerSyncPlugin.java\n",
      "Found android.content.Context in Authenticator.java\n",
      "Found android.content.Context in ServerSyncUtil.java\n",
      "Found android.content.Context in ServerSyncAdapter.java\n",
      "Found android.content.Intent in ServerSyncPlugin.java\n",
      "Found android.content.Intent in AuthenticatorService.java\n",
      "Found android.content.Intent in SyncService.java\n",
      "Found android.content.Intent in ServerSyncAdapter.java\n",
      "Found org.json.JSONObject in CommunicationHelper.java\n",
      "Found org.json.JSONObject in ServerSyncPlugin.java\n",
      "Found org.json.JSONObject in ServerSyncAdapter.java\n",
      "Found android.app.NotificationManager in ServerSyncAdapter.java\n",
      "Found android.app.Service in AuthenticatorService.java\n",
      "Found android.app.Service in SyncService.java\n",
      "Found java.lang.String in ServerSyncAdapter.java\n"
     ]
    }
   ],
   "source": [
    "def match_csv_java(csv_file, directory):\n",
    "    java_files = os.listdir(directory)\n",
    "    with open(csv_file, \"r\") as f:\n",
    "        reader = csv.reader(f)\n",
    "        for row in reader:\n",
    "            classes = row[1]         \n",
    "    #java_files = os.listdir(directory)\n",
    "            for java_file in java_files:\n",
    "                if not os.path.isdir(java_file) and java_file.endswith(\".java\"):\n",
    "                    with open(os.path.join(directory, java_file), \"r\", encoding=\"utf-8\") as f:\n",
    "                        text = f.read()\n",
    "                        if classes in text:\n",
    "                            print(f\"Found {classes} in {java_file}\")    \n",
    "    \n",
    "                            \n",
    "if __name__ == \"__main__\":\n",
    "    match_csv_java(\""tmp","tmp"\")"
   ]
  },
  {
   "cell_type": "markdown",
   "id": "5058994c",
   "metadata": {},
   "source": [
    "### 5. settings"
   ]
  },
  {
   "cell_type": "code",
   "execution_count": 30,
   "id": "a4849f6b",
   "metadata": {},
   "outputs": [
    {
     "name": "stdout",
     "output_type": "stream",
     "text": [
      "Found java.util.Arrays in ConnectionSettings.java\n",
      "Found android.content.Context in ConnectionSettingsPlugin.java\n",
      "Found android.content.Context in ConnectionSettings.java\n",
      "Found java.io.InputStream in ConnectionSettings.java\n",
      "Found org.json.JSONObject in ConnectionSettingsPlugin.java\n",
      "Found org.json.JSONObject in ConnectionSettings.java\n"
     ]
    }
   ],
   "source": [
    "def match_csv_java(csv_file, directory):\n",
    "    java_files = os.listdir(directory)\n",
    "    with open(csv_file, \"r\") as f:\n",
    "        reader = csv.reader(f)\n",
    "        for row in reader:\n",
    "            classes = row[1]         \n",
    "    #java_files = os.listdir(directory)\n",
    "            for java_file in java_files:\n",
    "                if not os.path.isdir(java_file) and java_file.endswith(\".java\"):\n",
    "                    with open(os.path.join(directory, java_file), \"r\", encoding=\"utf-8\") as f:\n",
    "                        text = f.read()\n",
    "                        if classes in text:\n",
    "                            print(f\"Found {classes} in {java_file}\")    \n",
    "    \n",
    "                            \n",
    "if __name__ == \"__main__\":\n",
    "    match_csv_java(\""tmp","tmp"\")"
   ]
  },
  {
   "cell_type": "markdown",
   "id": "4440291c",
   "metadata": {},
   "source": [
    "### 6. unified logger"
   ]
  },
  {
   "cell_type": "code",
   "execution_count": 31,
   "id": "86975b04",
   "metadata": {},
   "outputs": [
    {
     "name": "stdout",
     "output_type": "stream",
     "text": [
      "Found java.util.Arrays in DatabaseLogHandler.java\n",
      "Found android.content.Context in NotificationHelper.java\n",
      "Found android.content.Context in Log.java\n",
      "Found android.content.Context in DatabaseLogHandler.java\n",
      "Found java.io.FileReader in Log.java\n",
      "Found android.content.Intent in UnifiedLogger.java\n",
      "Found android.content.Intent in NotificationHelper.java\n",
      "Found org.json.JSONObject in NotificationHelper.java\n",
      "Found org.json.JSONObject in DatabaseLogHandler.java\n",
      "Found android.app.NotificationChannel in NotificationHelper.java\n",
      "Found android.app.NotificationManager in NotificationHelper.java\n",
      "Found java.io.PrintStream in DatabaseLogHandler.java\n",
      "Found java.io.PrintWriter in UnifiedLogger.java\n",
      "Found java.io.PrintWriter in Log.java\n",
      "Found android.database.sqlite.SQLiteDatabase in DatabaseLogHandler.java\n"
     ]
    }
   ],
   "source": [
    "def match_csv_java(csv_file, directory):\n",
    "    java_files = os.listdir(directory)\n",
    "    with open(csv_file, \"r\") as f:\n",
    "        reader = csv.reader(f)\n",
    "        for row in reader:\n",
    "            classes = row[1]         \n",
    "    #java_files = os.listdir(directory)\n",
    "            for java_file in java_files:\n",
    "                if not os.path.isdir(java_file) and java_file.endswith(\".java\"):\n",
    "                    with open(os.path.join(directory, java_file), \"r\", encoding=\"utf-8\") as f:\n",
    "                        text = f.read()\n",
    "                        if classes in text:\n",
    "                            print(f\"Found {classes} in {java_file}\")    \n",
    "    \n",
    "                            \n",
    "if __name__ == \"__main__\":\n",
    "    match_csv_java(\""tmp","tmp"\")"
   ]
  },
  {
   "cell_type": "markdown",
   "id": "c7f14032",
   "metadata": {},
   "source": [
    "### 7. usercache"
   ]
  },
  {
   "cell_type": "code",
   "execution_count": 32,
   "id": "ead0592d",
   "metadata": {},
   "outputs": [
    {
     "name": "stdout",
     "output_type": "stream",
     "text": [
      "Found java.util.Arrays in BuiltinUserCache.java\n",
      "Found android.content.Context in BuiltinUserCache.java\n",
      "Found android.content.Context in UserCacheFactory.java\n",
      "Found android.content.Context in UserCachePlugin.java\n",
      "Found org.json.JSONObject in BuiltinUserCache.java\n",
      "Found org.json.JSONObject in UserCache.java\n",
      "Found org.json.JSONObject in UserCachePlugin.java\n",
      "Found android.database.sqlite.SQLiteDatabase in BuiltinUserCache.java\n"
     ]
    }
   ],
   "source": [
    "def match_csv_java(csv_file, directory):\n",
    "    java_files = os.listdir(directory)\n",
    "    with open(csv_file, \"r\") as f:\n",
    "        reader = csv.reader(f)\n",
    "        for row in reader:\n",
    "            classes = row[1]         \n",
    "    #java_files = os.listdir(directory)\n",
    "            for java_file in java_files:\n",
    "                if not os.path.isdir(java_file) and java_file.endswith(\".java\"):\n",
    "                    with open(os.path.join(directory, java_file), \"r\", encoding=\"utf-8\") as f:\n",
    "                        text = f.read()\n",
    "                        if classes in text:\n",
    "                            print(f\"Found {classes} in {java_file}\")    \n",
    "    \n",
    "                            \n",
    "if __name__ == \"__main__\":\n",
    "    match_csv_java(\""tmp","tmp"\")"
   ]
  },
  {
   "cell_type": "code",
   "execution_count": null,
   "id": "c0c0837d",
   "metadata": {},
   "outputs": [],
   "source": []
  }
 ],
 "metadata": {
  "kernelspec": {
   "display_name": "Python 3 (ipykernel)",
   "language": "python",
   "name": "python3"
  },
  "language_info": {
   "codemirror_mode": {
    "name": "ipython",
    "version": 3
   },
   "file_extension": ".py",
   "mimetype": "text/x-python",
   "name": "python",
   "nbconvert_exporter": "python",
   "pygments_lexer": "ipython3",
   "version": "3.11.3"
  }
 },
 "nbformat": 4,
 "nbformat_minor": 5
}
